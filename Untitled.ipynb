{
 "cells": [
  {
   "cell_type": "code",
   "execution_count": 97,
   "metadata": {},
   "outputs": [],
   "source": [
    "import torch\n",
    "import torch.nn as nn\n",
    "import torch.nn.functional as F\n",
    "from torch import optim "
   ]
  },
  {
   "cell_type": "code",
   "execution_count": 98,
   "metadata": {},
   "outputs": [],
   "source": [
    "def step(x):\n",
    "    if abs(x)>0.5: return 1\n",
    "    if abs(x)<0.5: return 0"
   ]
  },
  {
   "cell_type": "code",
   "execution_count": 99,
   "metadata": {},
   "outputs": [
    {
     "name": "stdout",
     "output_type": "stream",
     "text": [
      "tensor([[0., 1.]])\n",
      "tensor([[-2.]], grad_fn=<AddmmBackward>)\n",
      "1\n"
     ]
    }
   ],
   "source": [
    "x1, x2 = 0,1\n",
    "w1, w2 = -2, -2\n",
    "b = 0\n",
    "\n",
    "linear1 = nn.Linear(2,1)\n",
    "linear1.weight.data = torch.FloatTensor([[w1, w2]])\n",
    "linear1.bias.data = torch.FloatTensor([b])\n",
    "\n",
    "input = torch.FloatTensor([[x1, x2]])\n",
    "\n",
    "x = linear1(input)\n",
    "output = step(x)\n",
    "print(input)\n",
    "print(x)\n",
    "print(output)"
   ]
  },
  {
   "cell_type": "code",
   "execution_count": 139,
   "metadata": {},
   "outputs": [],
   "source": [
    "x = [[0, 0],\n",
    "     [0, 1],\n",
    "     [1, 0],\n",
    "     [1, 1]]\n",
    "y = [[0,0,0,1]]\n",
    "\n",
    "feature = torch.FloatTensor(x)\n",
    "target = torch.FloatTensor(y)\n",
    "\n",
    "linear = nn.Linear(2,1)\n",
    "criterion = nn.BCELoss()\n",
    "optimizer =  optim.SGD(linear.parameters(), lr=0.01)"
   ]
  },
  {
   "cell_type": "code",
   "execution_count": 145,
   "metadata": {},
   "outputs": [
    {
     "name": "stdout",
     "output_type": "stream",
     "text": [
      "Loss:0.004497412126511335\n",
      "Output: tensor([[1.7056e-11],\n",
      "        [3.3219e-05],\n",
      "        [2.8381e-05],\n",
      "        [9.8223e-01]], grad_fn=<SigmoidBackward>)\n",
      "Target: tensor([[0., 0., 0., 1.]])\n"
     ]
    }
   ],
   "source": [
    "for epoch in range(1):\n",
    "    output = linear(feature) # forward network\n",
    "    output = F.sigmoid(output)\n",
    "\n",
    "    loss = criterion(output, target)\n",
    "    loss.backward() # backward\n",
    "    optimizer.step() # ubah mana yang salah\n",
    "    print(f'Loss:{loss}\\n'\n",
    "          f'Output: {output}\\n'\n",
    "          f'Target: {target}')"
   ]
  },
  {
   "cell_type": "code",
   "execution_count": 144,
   "metadata": {},
   "outputs": [
    {
     "name": "stdout",
     "output_type": "stream",
     "text": [
      "Weight : Parameter containing:\n",
      "tensor([[14.3248, 14.4822]], requires_grad=True)\n",
      "Bias   : Parameter containing:\n",
      "tensor([-24.7945], requires_grad=True)\n"
     ]
    }
   ],
   "source": [
    "w = linear.weight\n",
    "b = linear.bias\n",
    "\n",
    "print(f'Weight : {w}\\n'\n",
    "      f'Bias   : {b}')"
   ]
  },
  {
   "cell_type": "code",
   "execution_count": 151,
   "metadata": {},
   "outputs": [
    {
     "name": "stdout",
     "output_type": "stream",
     "text": [
      "tensor([[1., 1.]])\n",
      "tensor([[4.0100]], grad_fn=<AddmmBackward>)\n",
      "tensor([[0.9822]], grad_fn=<SigmoidBackward>)\n"
     ]
    }
   ],
   "source": [
    "x1, x2 = 1,1\n",
    "w1, w2 = 14.32,14.48\n",
    "b = -24.79\n",
    "\n",
    "linear1 = nn.Linear(2,1)\n",
    "linear1.weight.data = torch.FloatTensor([[w1, w2]])\n",
    "linear1.bias.data = torch.FloatTensor([b])\n",
    "\n",
    "input = torch.FloatTensor([[x1, x2]])\n",
    "\n",
    "x = linear1(input)\n",
    "output = F.sigmoid(x)\n",
    "print(input)\n",
    "print(x)\n",
    "print(output)"
   ]
  },
  {
   "cell_type": "code",
   "execution_count": null,
   "metadata": {},
   "outputs": [],
   "source": []
  }
 ],
 "metadata": {
  "kernelspec": {
   "display_name": "Python 3",
   "language": "python",
   "name": "python3"
  },
  "language_info": {
   "codemirror_mode": {
    "name": "ipython",
    "version": 3
   },
   "file_extension": ".py",
   "mimetype": "text/x-python",
   "name": "python",
   "nbconvert_exporter": "python",
   "pygments_lexer": "ipython3",
   "version": "3.6.7"
  }
 },
 "nbformat": 4,
 "nbformat_minor": 2
}
