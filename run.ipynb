{
 "cells": [
  {
   "cell_type": "code",
   "execution_count": 51,
   "metadata": {
    "collapsed": true
   },
   "outputs": [],
   "source": [
    "%matplotlib inline\n",
    "import os\n",
    "from pathlib import Path\n",
    "import numpy as np\n",
    "import pandas as pd\n",
    "from pandas.api.types import CategoricalDtype\n",
    "import matplotlib.pyplot as plt\n",
    "\n",
    "import torch\n",
    "import torch.nn as nn\n",
    "from torch.utils import data\n",
    "from torchvision import transforms\n",
    "from torch.utils.data.sampler import SubsetRandomSampler\n"
   ]
  },
  {
   "cell_type": "code",
   "execution_count": 10,
   "metadata": {
    "collapsed": true
   },
   "outputs": [],
   "source": [
    "p = Path('dataset/iris.data')\n",
    "df = pd.read_csv(p)\n",
    "feature_cols = ['sepal_length', 'sepal_width','petal_length','petal_witdh']\n",
    "target_cols = ['class']\n",
    "\n",
    "df.loc[df['class']=='Iris-setosa', 'class'] = 0\n",
    "df.loc[df['class']=='Iris-versicolor', 'class'] = 1\n",
    "df.loc[df['class']=='Iris-virginica', 'class'] = 2\n",
    "# print(df)"
   ]
  },
  {
   "cell_type": "code",
   "execution_count": 77,
   "metadata": {
    "collapsed": true
   },
   "outputs": [],
   "source": [
    "class IrisDataset(data.Dataset):\n",
    "    def __init__(\n",
    "            self, path:str, feature_cols:list, \n",
    "            target_cols:list, clazz:list, \n",
    "            transforms_feature=None, transforms_target=None):\n",
    "        \n",
    "        self.path = Path(path)\n",
    "        self.dframe = pd.read_csv(self.path)\n",
    "        self.feature_cols = feature_cols\n",
    "        self.target_cols = target_cols\n",
    "        self.clazz = clazz\n",
    "        self.transforms_feature = transforms_feature\n",
    "        self.transforms_target = transforms_target\n",
    "        \n",
    "        self.__normalize_target()\n",
    "        self.class_to_idx = self.__class_to_label()\n",
    "        self.idx_to_class = self.__idx_to_class()\n",
    "    \n",
    "    def __len__(self):\n",
    "        return len(self.dframe)\n",
    "    \n",
    "    def __class_to_label(self):\n",
    "        mapz = [(val, idx) for idx, val in enumerate(self.clazz)]\n",
    "        return dict(mapz)\n",
    "    \n",
    "    def __idx_to_class(self):\n",
    "        mapz = [(idx, val) for idx, val in enumerate(self.clazz)]\n",
    "        return dict(mapz)\n",
    "    \n",
    "    def __normalize_target(self):\n",
    "        cat_type = CategoricalDtype(categories=self.clazz, ordered=True)\n",
    "        self.dframe[self.target_cols[0]] = self.dframe[self.target_cols[0]].astype(cat_type).cat.codes\n",
    "    \n",
    "    def __getitem__(self, idx):\n",
    "        feature = self.dframe[self.feature_cols].iloc[idx].values\n",
    "        target = self.dframe[self.target_cols].iloc[idx].values\n",
    "        target = np.squeeze(target)\n",
    "        \n",
    "        if self.transforms_feature:\n",
    "            feature = self.transforms_feature(feature)\n",
    "        if self.transforms_target:\n",
    "            target = self.transforms_target(target)\n",
    "            \n",
    "        return feature, target\n",
    "\n",
    "\n",
    "def indice_splitter(dataset, valid_size, shuflle=True):\n",
    "    num_data = len(dataset)\n",
    "    indices = list(range(num_data))\n",
    "    split = int(np.floor(valid_size * num_data))\n",
    "    if shuflle:\n",
    "        np.random.seed(1)\n",
    "        np.random.shuffle(indices)\n",
    "    train_idx, valid_idx = indices[split:], indices[:split]\n",
    "    return train_idx, valid_idx\n",
    "\n",
    "class NumpyToFloatTensor(object):\n",
    "    def __call__(self, param):\n",
    "        return torch.from_numpy(param.astype(np.float32)).float()\n",
    "    \n",
    "class NumpyToLongTensor(object):\n",
    "    def __call__(self, param):\n",
    "        return torch.from_numpy(param.astype(np.long)).long()\n",
    "        \n",
    "        \n",
    "path = 'dataset/iris.data'\n",
    "feature_cols = ['sepal_length', 'sepal_width','petal_length','petal_witdh']\n",
    "target_cols = ['class']\n",
    "clazz = [\"Iris-setosa\", \"Iris-versicolor\", \"Iris-virginica\"]\n",
    "\n",
    "iris_dataset = IrisDataset(\n",
    "    path, feature_cols, \n",
    "    target_cols, clazz, \n",
    "    transforms_feature=NumpyToFloatTensor(), transforms_target=NumpyToLongTensor())\n",
    "\n",
    "train_idx, valid_idx = indice_splitter(iris_dataset, valid_size=0.2)\n",
    "\n",
    "train_loader = data.DataLoader(iris_dataset, batch_size=32, sampler=SubsetRandomSampler(train_idx), num_workers=0)\n",
    "valid_loader = data.DataLoader(iris_dataset, batch_size=32, sampler=SubsetRandomSampler(valid_idx), num_workers=0)"
   ]
  },
  {
   "cell_type": "code",
   "execution_count": 54,
   "metadata": {
    "collapsed": true
   },
   "outputs": [
    {
     "data": {
      "text/plain": [
       "tensor([[6.0000, 3.0000, 4.8000, 1.8000],\n        [7.7000, 3.0000, 6.1000, 2.3000],\n        [5.5000, 2.4000, 3.8000, 1.1000],\n        [5.7000, 2.8000, 4.5000, 1.3000],\n        [5.0000, 2.3000, 3.3000, 1.0000],\n        [5.5000, 2.5000, 4.0000, 1.3000],\n        [4.8000, 3.1000, 1.6000, 0.2000],\n        [4.6000, 3.6000, 1.0000, 0.2000],\n        [4.6000, 3.1000, 1.5000, 0.2000],\n        [5.5000, 3.5000, 1.3000, 0.2000],\n        [6.5000, 3.0000, 5.5000, 1.8000],\n        [4.8000, 3.0000, 1.4000, 0.1000],\n        [5.7000, 4.4000, 1.5000, 0.4000],\n        [5.6000, 2.8000, 4.9000, 2.0000],\n        [4.8000, 3.4000, 1.9000, 0.2000],\n        [4.9000, 3.1000, 1.5000, 0.1000],\n        [6.7000, 3.0000, 5.2000, 2.3000],\n        [5.9000, 3.2000, 4.8000, 1.8000],\n        [4.6000, 3.2000, 1.4000, 0.2000],\n        [6.1000, 2.9000, 4.7000, 1.4000],\n        [6.3000, 2.9000, 5.6000, 1.8000],\n        [5.5000, 2.4000, 3.7000, 1.0000],\n        [6.4000, 2.9000, 4.3000, 1.3000],\n        [6.7000, 3.1000, 4.7000, 1.5000],\n        [5.0000, 2.0000, 3.5000, 1.0000],\n        [6.1000, 2.8000, 4.0000, 1.3000],\n        [5.2000, 4.1000, 1.5000, 0.1000],\n        [6.3000, 2.7000, 4.9000, 1.8000],\n        [7.2000, 3.0000, 5.8000, 1.6000],\n        [5.5000, 2.3000, 4.0000, 1.3000],\n        [5.0000, 3.3000, 1.4000, 0.2000],\n        [6.5000, 3.0000, 5.2000, 2.0000]])"
      ]
     },
     "execution_count": 54,
     "metadata": {},
     "output_type": "execute_result"
    }
   ],
   "source": [
    "# loss = nn.CrossEntropyLoss()\n",
    "# input = torch.randn(3, 5, requires_grad=True)\n",
    "# target = torch.empty(3, dtype=torch.long).random_(5)\n",
    "# # output = loss(input, target)\n",
    "data_iter = iter(train_loader)\n",
    "x, y = next(data_iter)\n",
    "# torch.utils.data.random_split(iris_dataset, len(iris_dataset))"
   ]
  },
  {
   "cell_type": "code",
   "execution_count": 55,
   "metadata": {},
   "outputs": [
    {
     "name": "stdout",
     "output_type": "stream",
     "text": [
      "tensor(1.8174, grad_fn=<NllLossBackward>)\ntensor(1.2106, grad_fn=<NllLossBackward>)\ntensor(1.7663, grad_fn=<NllLossBackward>)\ntensor(0.9119, grad_fn=<NllLossBackward>)\ntensor(1.0570, grad_fn=<NllLossBackward>)\ntensor(0.6807, grad_fn=<NllLossBackward>)\ntensor(0.5482, grad_fn=<NllLossBackward>)\n"
     ]
    },
    {
     "name": "stdout",
     "output_type": "stream",
     "text": [
      "tensor(0.3834, grad_fn=<NllLossBackward>)\ntensor(0.5320, grad_fn=<NllLossBackward>)\ntensor(0.4112, grad_fn=<NllLossBackward>)\ntensor(0.5653, grad_fn=<NllLossBackward>)\ntensor(0.3236, grad_fn=<NllLossBackward>)\n"
     ]
    },
    {
     "name": "stdout",
     "output_type": "stream",
     "text": [
      "tensor(0.3790, grad_fn=<NllLossBackward>)\ntensor(0.2627, grad_fn=<NllLossBackward>)\ntensor(0.1878, grad_fn=<NllLossBackward>)\ntensor(0.3983, grad_fn=<NllLossBackward>)\ntensor(0.1453, grad_fn=<NllLossBackward>)\ntensor(0.1881, grad_fn=<NllLossBackward>)\n"
     ]
    },
    {
     "name": "stdout",
     "output_type": "stream",
     "text": [
      "tensor(0.1375, grad_fn=<NllLossBackward>)\ntensor(0.3825, grad_fn=<NllLossBackward>)\ntensor(0.2569, grad_fn=<NllLossBackward>)\ntensor(0.3517, grad_fn=<NllLossBackward>)\ntensor(0.2267, grad_fn=<NllLossBackward>)\ntensor(0.2212, grad_fn=<NllLossBackward>)\ntensor(0.2562, grad_fn=<NllLossBackward>)\n"
     ]
    },
    {
     "name": "stdout",
     "output_type": "stream",
     "text": [
      "tensor(0.2273, grad_fn=<NllLossBackward>)\ntensor(0.1197, grad_fn=<NllLossBackward>)\ntensor(0.3072, grad_fn=<NllLossBackward>)\ntensor(0.2332, grad_fn=<NllLossBackward>)\ntensor(0.0285, grad_fn=<NllLossBackward>)\ntensor(0.1922, grad_fn=<NllLossBackward>)\ntensor(0.2591, grad_fn=<NllLossBackward>)\n"
     ]
    },
    {
     "name": "stdout",
     "output_type": "stream",
     "text": [
      "tensor(0.1695, grad_fn=<NllLossBackward>)\ntensor(0.1177, grad_fn=<NllLossBackward>)\ntensor(0.0561, grad_fn=<NllLossBackward>)\ntensor(0.8455, grad_fn=<NllLossBackward>)\ntensor(0.2769, grad_fn=<NllLossBackward>)\ntensor(0.0449, grad_fn=<NllLossBackward>)\ntensor(0.2142, grad_fn=<NllLossBackward>)\n"
     ]
    },
    {
     "name": "stdout",
     "output_type": "stream",
     "text": [
      "tensor(0.0980, grad_fn=<NllLossBackward>)\ntensor(0.5835, grad_fn=<NllLossBackward>)\ntensor(0.0595, grad_fn=<NllLossBackward>)\ntensor(0.0564, grad_fn=<NllLossBackward>)\ntensor(0.1740, grad_fn=<NllLossBackward>)\ntensor(1.2036, grad_fn=<NllLossBackward>)\ntensor(0.5065, grad_fn=<NllLossBackward>)\n"
     ]
    },
    {
     "name": "stdout",
     "output_type": "stream",
     "text": [
      "tensor(0.0049, grad_fn=<NllLossBackward>)\ntensor(0.1179, grad_fn=<NllLossBackward>)\ntensor(0.5655, grad_fn=<NllLossBackward>)\ntensor(0.6290, grad_fn=<NllLossBackward>)\ntensor(0.4409, grad_fn=<NllLossBackward>)\ntensor(0.2062, grad_fn=<NllLossBackward>)\ntensor(0.5055, grad_fn=<NllLossBackward>)\n"
     ]
    },
    {
     "name": "stdout",
     "output_type": "stream",
     "text": [
      "tensor(2.5923, grad_fn=<NllLossBackward>)\ntensor(1.0775, grad_fn=<NllLossBackward>)\ntensor(0.1984, grad_fn=<NllLossBackward>)\ntensor(0.3805, grad_fn=<NllLossBackward>)\ntensor(1.7885, grad_fn=<NllLossBackward>)\ntensor(0.9899, grad_fn=<NllLossBackward>)\ntensor(0.2799, grad_fn=<NllLossBackward>)\n"
     ]
    },
    {
     "name": "stdout",
     "output_type": "stream",
     "text": [
      "tensor(0.4441, grad_fn=<NllLossBackward>)\ntensor(2.2936, grad_fn=<NllLossBackward>)\ntensor(0.8826, grad_fn=<NllLossBackward>)\ntensor(1.3193, grad_fn=<NllLossBackward>)\ntensor(0.6398, grad_fn=<NllLossBackward>)\ntensor(0.2756, grad_fn=<NllLossBackward>)\ntensor(0.3907, grad_fn=<NllLossBackward>)\n"
     ]
    },
    {
     "name": "stdout",
     "output_type": "stream",
     "text": [
      "tensor(1.9413, grad_fn=<NllLossBackward>)\ntensor(0.3608, grad_fn=<NllLossBackward>)\ntensor(0.2492, grad_fn=<NllLossBackward>)\ntensor(0.4700, grad_fn=<NllLossBackward>)\ntensor(1.8735, grad_fn=<NllLossBackward>)\ntensor(3.0833, grad_fn=<NllLossBackward>)\ntensor(1.1776, grad_fn=<NllLossBackward>)\n"
     ]
    },
    {
     "name": "stdout",
     "output_type": "stream",
     "text": [
      "tensor(0.0119, grad_fn=<NllLossBackward>)\ntensor(0.2975, grad_fn=<NllLossBackward>)\ntensor(2.5328, grad_fn=<NllLossBackward>)\ntensor(3.7689, grad_fn=<NllLossBackward>)\ntensor(0.3328, grad_fn=<NllLossBackward>)\ntensor(0.9901, grad_fn=<NllLossBackward>)\ntensor(4.6996, grad_fn=<NllLossBackward>)\ntensor(1.2077, grad_fn=<NllLossBackward>)\n"
     ]
    },
    {
     "name": "stdout",
     "output_type": "stream",
     "text": [
      "tensor(3.1797, grad_fn=<NllLossBackward>)\ntensor(4.7684e-06, grad_fn=<NllLossBackward>)\ntensor(0.2988, grad_fn=<NllLossBackward>)\ntensor(3.3548, grad_fn=<NllLossBackward>)\ntensor(2.3980, grad_fn=<NllLossBackward>)\ntensor(0.3737, grad_fn=<NllLossBackward>)\ntensor(4.5300e-05, grad_fn=<NllLossBackward>)\ntensor(1.8701, grad_fn=<NllLossBackward>)\n"
     ]
    },
    {
     "name": "stdout",
     "output_type": "stream",
     "text": [
      "tensor(3.0500, grad_fn=<NllLossBackward>)\ntensor(3.2565, grad_fn=<NllLossBackward>)\ntensor(0.4577, grad_fn=<NllLossBackward>)\ntensor(0.1532, grad_fn=<NllLossBackward>)\ntensor(1.1062, grad_fn=<NllLossBackward>)\ntensor(1.5678, grad_fn=<NllLossBackward>)\ntensor(3.8195, grad_fn=<NllLossBackward>)\ntensor(0.4387, grad_fn=<NllLossBackward>)\n"
     ]
    },
    {
     "name": "stdout",
     "output_type": "stream",
     "text": [
      "tensor(0.0028, grad_fn=<NllLossBackward>)\ntensor(0.9828, grad_fn=<NllLossBackward>)\ntensor(1.0103, grad_fn=<NllLossBackward>)\ntensor(4.2497, grad_fn=<NllLossBackward>)\ntensor(2.7452, grad_fn=<NllLossBackward>)\ntensor(2.0435, grad_fn=<NllLossBackward>)\ntensor(0.9441, grad_fn=<NllLossBackward>)\ntensor(1.5896, grad_fn=<NllLossBackward>)\n"
     ]
    },
    {
     "name": "stdout",
     "output_type": "stream",
     "text": [
      "tensor(3.6345, grad_fn=<NllLossBackward>)\ntensor(1.7794, grad_fn=<NllLossBackward>)\ntensor(0.5575, grad_fn=<NllLossBackward>)\ntensor(0.0678, grad_fn=<NllLossBackward>)\ntensor(1.8147, grad_fn=<NllLossBackward>)\ntensor(2.7180e-05, grad_fn=<NllLossBackward>)\ntensor(2.0194, grad_fn=<NllLossBackward>)\ntensor(3.6740, grad_fn=<NllLossBackward>)\n"
     ]
    },
    {
     "name": "stdout",
     "output_type": "stream",
     "text": [
      "tensor(0.0003, grad_fn=<NllLossBackward>)\ntensor(0.0455, grad_fn=<NllLossBackward>)\ntensor(0., grad_fn=<NllLossBackward>)\ntensor(0.8035, grad_fn=<NllLossBackward>)\ntensor(0.1006, grad_fn=<NllLossBackward>)\ntensor(1.9004, grad_fn=<NllLossBackward>)\ntensor(1.6549, grad_fn=<NllLossBackward>)\n"
     ]
    },
    {
     "name": "stdout",
     "output_type": "stream",
     "text": [
      "tensor(0.3638, grad_fn=<NllLossBackward>)\ntensor(0.1756, grad_fn=<NllLossBackward>)\ntensor(0.2159, grad_fn=<NllLossBackward>)\ntensor(0.9846, grad_fn=<NllLossBackward>)\ntensor(3.3379e-06, grad_fn=<NllLossBackward>)\ntensor(0.3685, grad_fn=<NllLossBackward>)\ntensor(0.3949, grad_fn=<NllLossBackward>)\ntensor(0.3789, grad_fn=<NllLossBackward>)\n"
     ]
    },
    {
     "name": "stdout",
     "output_type": "stream",
     "text": [
      "tensor(0., grad_fn=<NllLossBackward>)\ntensor(1.1402, grad_fn=<NllLossBackward>)\ntensor(0.0788, grad_fn=<NllLossBackward>)\ntensor(0.6195, grad_fn=<NllLossBackward>)\ntensor(0.6010, grad_fn=<NllLossBackward>)\ntensor(1.9102, grad_fn=<NllLossBackward>)\ntensor(2.4466, grad_fn=<NllLossBackward>)\ntensor(0.3727, grad_fn=<NllLossBackward>)\n"
     ]
    },
    {
     "name": "stdout",
     "output_type": "stream",
     "text": [
      "tensor(1.2908, grad_fn=<NllLossBackward>)\ntensor(0.4075, grad_fn=<NllLossBackward>)\ntensor(0.3572, grad_fn=<NllLossBackward>)\ntensor(1.6818, grad_fn=<NllLossBackward>)\ntensor(1.5974, grad_fn=<NllLossBackward>)\ntensor(3.7692, grad_fn=<NllLossBackward>)\ntensor(2.2684, grad_fn=<NllLossBackward>)\ntensor(0.9277, grad_fn=<NllLossBackward>)\n"
     ]
    },
    {
     "name": "stdout",
     "output_type": "stream",
     "text": [
      "tensor(0., grad_fn=<NllLossBackward>)\ntensor(0.7180, grad_fn=<NllLossBackward>)\ntensor(1.8894, grad_fn=<NllLossBackward>)\ntensor(2.9081, grad_fn=<NllLossBackward>)\ntensor(4.5838, grad_fn=<NllLossBackward>)\ntensor(1.7468, grad_fn=<NllLossBackward>)\ntensor(0.6681, grad_fn=<NllLossBackward>)\ntensor(0.9301, grad_fn=<NllLossBackward>)\n"
     ]
    },
    {
     "name": "stdout",
     "output_type": "stream",
     "text": [
      "tensor(0.4201, grad_fn=<NllLossBackward>)\ntensor(0.5131, grad_fn=<NllLossBackward>)\ntensor(2.5431e-06, grad_fn=<NllLossBackward>)\ntensor(0.4277, grad_fn=<NllLossBackward>)\ntensor(4.4134, grad_fn=<NllLossBackward>)\ntensor(0., grad_fn=<NllLossBackward>)\ntensor(0., grad_fn=<NllLossBackward>)\ntensor(0.0325, grad_fn=<NllLossBackward>)\n"
     ]
    },
    {
     "name": "stdout",
     "output_type": "stream",
     "text": [
      "tensor(0., grad_fn=<NllLossBackward>)\ntensor(0.2646, grad_fn=<NllLossBackward>)\ntensor(0.9550, grad_fn=<NllLossBackward>)\ntensor(1.4825, grad_fn=<NllLossBackward>)\ntensor(1.7106, grad_fn=<NllLossBackward>)\ntensor(4.1615, grad_fn=<NllLossBackward>)\ntensor(0.8865, grad_fn=<NllLossBackward>)\ntensor(0.7529, grad_fn=<NllLossBackward>)\n"
     ]
    },
    {
     "name": "stdout",
     "output_type": "stream",
     "text": [
      "tensor(0., grad_fn=<NllLossBackward>)\ntensor(2.5259, grad_fn=<NllLossBackward>)\ntensor(0.6880, grad_fn=<NllLossBackward>)\ntensor(3.3727, grad_fn=<NllLossBackward>)\ntensor(4.2171, grad_fn=<NllLossBackward>)\ntensor(4.8145, grad_fn=<NllLossBackward>)\ntensor(0.9518, grad_fn=<NllLossBackward>)\ntensor(0., grad_fn=<NllLossBackward>)\n"
     ]
    },
    {
     "name": "stdout",
     "output_type": "stream",
     "text": [
      "tensor(0.8609, grad_fn=<NllLossBackward>)\ntensor(1.8733, grad_fn=<NllLossBackward>)\ntensor(9.9701, grad_fn=<NllLossBackward>)\ntensor(2.6463, grad_fn=<NllLossBackward>)\ntensor(0.6894, grad_fn=<NllLossBackward>)\ntensor(0.2577, grad_fn=<NllLossBackward>)\ntensor(0., grad_fn=<NllLossBackward>)\ntensor(0.5757, grad_fn=<NllLossBackward>)\n"
     ]
    },
    {
     "name": "stdout",
     "output_type": "stream",
     "text": [
      "tensor(5.9692, grad_fn=<NllLossBackward>)\ntensor(0.5528, grad_fn=<NllLossBackward>)\ntensor(4.4186, grad_fn=<NllLossBackward>)\ntensor(0.8841, grad_fn=<NllLossBackward>)\ntensor(0.0012, grad_fn=<NllLossBackward>)\ntensor(2.2320, grad_fn=<NllLossBackward>)\ntensor(1.2716e-06, grad_fn=<NllLossBackward>)\ntensor(2.0084, grad_fn=<NllLossBackward>)\n"
     ]
    },
    {
     "name": "stdout",
     "output_type": "stream",
     "text": [
      "tensor(2.0842, grad_fn=<NllLossBackward>)\ntensor(0.1432, grad_fn=<NllLossBackward>)\ntensor(3.0701, grad_fn=<NllLossBackward>)\ntensor(0.5225, grad_fn=<NllLossBackward>)\ntensor(0.7988, grad_fn=<NllLossBackward>)\ntensor(0., grad_fn=<NllLossBackward>)\ntensor(4.8809, grad_fn=<NllLossBackward>)\ntensor(0.0083, grad_fn=<NllLossBackward>)\n"
     ]
    },
    {
     "name": "stdout",
     "output_type": "stream",
     "text": [
      "tensor(0.0003, grad_fn=<NllLossBackward>)\ntensor(1.7494, grad_fn=<NllLossBackward>)\ntensor(9.3127, grad_fn=<NllLossBackward>)\ntensor(6.6985, grad_fn=<NllLossBackward>)\ntensor(0., grad_fn=<NllLossBackward>)\ntensor(5.7220e-06, grad_fn=<NllLossBackward>)\ntensor(0., grad_fn=<NllLossBackward>)\ntensor(0.8485, grad_fn=<NllLossBackward>)\n"
     ]
    },
    {
     "name": "stdout",
     "output_type": "stream",
     "text": [
      "tensor(4.2309, grad_fn=<NllLossBackward>)\ntensor(1.6756, grad_fn=<NllLossBackward>)\ntensor(2.3403, grad_fn=<NllLossBackward>)\ntensor(3.8147e-06, grad_fn=<NllLossBackward>)\ntensor(0.1003, grad_fn=<NllLossBackward>)\ntensor(1.1778, grad_fn=<NllLossBackward>)\ntensor(1.0861, grad_fn=<NllLossBackward>)\n"
     ]
    },
    {
     "name": "stdout",
     "output_type": "stream",
     "text": [
      "tensor(0.1675, grad_fn=<NllLossBackward>)\ntensor(0., grad_fn=<NllLossBackward>)\ntensor(1.3481, grad_fn=<NllLossBackward>)\ntensor(7.7387, grad_fn=<NllLossBackward>)\ntensor(3.4600, grad_fn=<NllLossBackward>)\ntensor(0.8596, grad_fn=<NllLossBackward>)\ntensor(2.3601, grad_fn=<NllLossBackward>)\n"
     ]
    },
    {
     "name": "stdout",
     "output_type": "stream",
     "text": [
      "tensor(0., grad_fn=<NllLossBackward>)\ntensor(0., grad_fn=<NllLossBackward>)\ntensor(1.2925, grad_fn=<NllLossBackward>)\ntensor(0.3470, grad_fn=<NllLossBackward>)\ntensor(0.3013, grad_fn=<NllLossBackward>)\ntensor(1.5508, grad_fn=<NllLossBackward>)\ntensor(0.7171, grad_fn=<NllLossBackward>)\n"
     ]
    },
    {
     "name": "stdout",
     "output_type": "stream",
     "text": [
      "tensor(2.1302, grad_fn=<NllLossBackward>)\ntensor(3.5339, grad_fn=<NllLossBackward>)\ntensor(1.3280, grad_fn=<NllLossBackward>)\ntensor(0.6765, grad_fn=<NllLossBackward>)\ntensor(0.0610, grad_fn=<NllLossBackward>)\ntensor(1.4664, grad_fn=<NllLossBackward>)\ntensor(1.5823, grad_fn=<NllLossBackward>)\n"
     ]
    },
    {
     "name": "stdout",
     "output_type": "stream",
     "text": [
      "tensor(0.8961, grad_fn=<NllLossBackward>)\ntensor(2.2476, grad_fn=<NllLossBackward>)\ntensor(7.8837e-05, grad_fn=<NllLossBackward>)\ntensor(0.8512, grad_fn=<NllLossBackward>)\ntensor(0.0103, grad_fn=<NllLossBackward>)\ntensor(4.2291, grad_fn=<NllLossBackward>)\ntensor(0.6857, grad_fn=<NllLossBackward>)\n"
     ]
    },
    {
     "name": "stdout",
     "output_type": "stream",
     "text": [
      "tensor(0.5343, grad_fn=<NllLossBackward>)\ntensor(2.6703e-05, grad_fn=<NllLossBackward>)\ntensor(1.9745, grad_fn=<NllLossBackward>)\ntensor(2.1269, grad_fn=<NllLossBackward>)\ntensor(0., grad_fn=<NllLossBackward>)\ntensor(0.3685, grad_fn=<NllLossBackward>)\ntensor(0.8682, grad_fn=<NllLossBackward>)\n"
     ]
    },
    {
     "name": "stdout",
     "output_type": "stream",
     "text": [
      "tensor(1.7463, grad_fn=<NllLossBackward>)\ntensor(1.4599, grad_fn=<NllLossBackward>)\ntensor(3.1239, grad_fn=<NllLossBackward>)\ntensor(1.0036, grad_fn=<NllLossBackward>)\ntensor(0.6051, grad_fn=<NllLossBackward>)\ntensor(0., grad_fn=<NllLossBackward>)\ntensor(0.3945, grad_fn=<NllLossBackward>)\ntensor(3.4048, grad_fn=<NllLossBackward>)\n"
     ]
    },
    {
     "name": "stdout",
     "output_type": "stream",
     "text": [
      "tensor(0.0344, grad_fn=<NllLossBackward>)\ntensor(0.5408, grad_fn=<NllLossBackward>)\ntensor(2.2434, grad_fn=<NllLossBackward>)\ntensor(6.1041, grad_fn=<NllLossBackward>)\ntensor(1.6883, grad_fn=<NllLossBackward>)\ntensor(3.1813, grad_fn=<NllLossBackward>)\ntensor(0.1531, grad_fn=<NllLossBackward>)\ntensor(0.1355, grad_fn=<NllLossBackward>)\n"
     ]
    },
    {
     "name": "stdout",
     "output_type": "stream",
     "text": [
      "tensor(0.5763, grad_fn=<NllLossBackward>)\ntensor(3.2509, grad_fn=<NllLossBackward>)\ntensor(4.2754, grad_fn=<NllLossBackward>)\ntensor(0.6261, grad_fn=<NllLossBackward>)\ntensor(1.3138, grad_fn=<NllLossBackward>)\ntensor(2.8418, grad_fn=<NllLossBackward>)\ntensor(0.1336, grad_fn=<NllLossBackward>)\ntensor(1.8239, grad_fn=<NllLossBackward>)\n"
     ]
    },
    {
     "name": "stdout",
     "output_type": "stream",
     "text": [
      "tensor(2.1908, grad_fn=<NllLossBackward>)\ntensor(0.5323, grad_fn=<NllLossBackward>)\ntensor(5.0679, grad_fn=<NllLossBackward>)\ntensor(5.6942, grad_fn=<NllLossBackward>)\ntensor(0.2288, grad_fn=<NllLossBackward>)\ntensor(0.7427, grad_fn=<NllLossBackward>)\ntensor(0.3800, grad_fn=<NllLossBackward>)\ntensor(0.9836, grad_fn=<NllLossBackward>)\n"
     ]
    },
    {
     "name": "stdout",
     "output_type": "stream",
     "text": [
      "tensor(1.7269, grad_fn=<NllLossBackward>)\ntensor(9.7958, grad_fn=<NllLossBackward>)\ntensor(4.9052, grad_fn=<NllLossBackward>)\ntensor(0.5175, grad_fn=<NllLossBackward>)\ntensor(0., grad_fn=<NllLossBackward>)\ntensor(1.6688, grad_fn=<NllLossBackward>)\ntensor(1.2746, grad_fn=<NllLossBackward>)\ntensor(15.1831, grad_fn=<NllLossBackward>)\n"
     ]
    },
    {
     "name": "stdout",
     "output_type": "stream",
     "text": [
      "tensor(7.7661, grad_fn=<NllLossBackward>)\ntensor(9.0683, grad_fn=<NllLossBackward>)\ntensor(9.4637, grad_fn=<NllLossBackward>)\ntensor(0., grad_fn=<NllLossBackward>)\ntensor(3.4778, grad_fn=<NllLossBackward>)\ntensor(0.5870, grad_fn=<NllLossBackward>)\ntensor(0., grad_fn=<NllLossBackward>)\ntensor(3.8646, grad_fn=<NllLossBackward>)\n"
     ]
    },
    {
     "name": "stdout",
     "output_type": "stream",
     "text": [
      "tensor(5.1057, grad_fn=<NllLossBackward>)\ntensor(17.6580, grad_fn=<NllLossBackward>)\ntensor(4.3502, grad_fn=<NllLossBackward>)\ntensor(0.0029, grad_fn=<NllLossBackward>)\ntensor(3.2689, grad_fn=<NllLossBackward>)\ntensor(0., grad_fn=<NllLossBackward>)\ntensor(0.2928, grad_fn=<NllLossBackward>)\ntensor(6.3372, grad_fn=<NllLossBackward>)\n"
     ]
    },
    {
     "name": "stdout",
     "output_type": "stream",
     "text": [
      "tensor(0., grad_fn=<NllLossBackward>)\ntensor(0., grad_fn=<NllLossBackward>)\ntensor(3.1461, grad_fn=<NllLossBackward>)\ntensor(13.9110, grad_fn=<NllLossBackward>)\ntensor(0.6659, grad_fn=<NllLossBackward>)\ntensor(9.2998, grad_fn=<NllLossBackward>)\ntensor(2.0698, grad_fn=<NllLossBackward>)\ntensor(3.8446, grad_fn=<NllLossBackward>)\n"
     ]
    },
    {
     "name": "stdout",
     "output_type": "stream",
     "text": [
      "tensor(9.4081, grad_fn=<NllLossBackward>)\ntensor(0.9405, grad_fn=<NllLossBackward>)\ntensor(8.7840, grad_fn=<NllLossBackward>)\ntensor(4.1584, grad_fn=<NllLossBackward>)\ntensor(16.2879, grad_fn=<NllLossBackward>)\ntensor(9.1385, grad_fn=<NllLossBackward>)\ntensor(0., grad_fn=<NllLossBackward>)\ntensor(5.9059, grad_fn=<NllLossBackward>)\n"
     ]
    },
    {
     "name": "stdout",
     "output_type": "stream",
     "text": [
      "tensor(0.3128, grad_fn=<NllLossBackward>)\ntensor(0., grad_fn=<NllLossBackward>)\ntensor(4.4098, grad_fn=<NllLossBackward>)\ntensor(1.1568, grad_fn=<NllLossBackward>)\ntensor(0., grad_fn=<NllLossBackward>)\ntensor(3.5708, grad_fn=<NllLossBackward>)\ntensor(1.8555, grad_fn=<NllLossBackward>)\ntensor(0.4672, grad_fn=<NllLossBackward>)\n"
     ]
    },
    {
     "name": "stdout",
     "output_type": "stream",
     "text": [
      "tensor(2.0639, grad_fn=<NllLossBackward>)\ntensor(1.1436, grad_fn=<NllLossBackward>)\ntensor(0., grad_fn=<NllLossBackward>)\ntensor(11.2699, grad_fn=<NllLossBackward>)\ntensor(13.1763, grad_fn=<NllLossBackward>)\ntensor(8.0167, grad_fn=<NllLossBackward>)\ntensor(23.4188, grad_fn=<NllLossBackward>)\ntensor(0., grad_fn=<NllLossBackward>)\n"
     ]
    },
    {
     "name": "stdout",
     "output_type": "stream",
     "text": [
      "tensor(11.8448, grad_fn=<NllLossBackward>)\ntensor(5.8975, grad_fn=<NllLossBackward>)\ntensor(0.5527, grad_fn=<NllLossBackward>)\ntensor(4.5098, grad_fn=<NllLossBackward>)\ntensor(0., grad_fn=<NllLossBackward>)\ntensor(5.3328, grad_fn=<NllLossBackward>)\ntensor(5.0858, grad_fn=<NllLossBackward>)\ntensor(4.1428, grad_fn=<NllLossBackward>)\n"
     ]
    },
    {
     "name": "stdout",
     "output_type": "stream",
     "text": [
      "tensor(9.5318, grad_fn=<NllLossBackward>)\ntensor(1.6024, grad_fn=<NllLossBackward>)\ntensor(0.8932, grad_fn=<NllLossBackward>)\ntensor(0., grad_fn=<NllLossBackward>)\ntensor(11.1002, grad_fn=<NllLossBackward>)\ntensor(1.2187, grad_fn=<NllLossBackward>)\ntensor(0., grad_fn=<NllLossBackward>)\n"
     ]
    },
    {
     "name": "stdout",
     "output_type": "stream",
     "text": [
      "tensor(14.8963, grad_fn=<NllLossBackward>)\ntensor(9.9033, grad_fn=<NllLossBackward>)\ntensor(0., grad_fn=<NllLossBackward>)\ntensor(7.7995, grad_fn=<NllLossBackward>)\ntensor(15.9682, grad_fn=<NllLossBackward>)\ntensor(23.4942, grad_fn=<NllLossBackward>)\ntensor(9.7973, grad_fn=<NllLossBackward>)\ntensor(15.1141, grad_fn=<NllLossBackward>)\n"
     ]
    },
    {
     "name": "stdout",
     "output_type": "stream",
     "text": [
      "tensor(29.3111, grad_fn=<NllLossBackward>)\ntensor(0., grad_fn=<NllLossBackward>)\ntensor(6.9258, grad_fn=<NllLossBackward>)\ntensor(7.3921, grad_fn=<NllLossBackward>)\ntensor(19.5669, grad_fn=<NllLossBackward>)\ntensor(0., grad_fn=<NllLossBackward>)\ntensor(6.7516, grad_fn=<NllLossBackward>)\ntensor(5.4999, grad_fn=<NllLossBackward>)\n"
     ]
    },
    {
     "name": "stdout",
     "output_type": "stream",
     "text": [
      "tensor(1.6739, grad_fn=<NllLossBackward>)\ntensor(11.9256, grad_fn=<NllLossBackward>)\ntensor(6.8600, grad_fn=<NllLossBackward>)\ntensor(2.3973, grad_fn=<NllLossBackward>)\ntensor(9.4613, grad_fn=<NllLossBackward>)\ntensor(4.2806, grad_fn=<NllLossBackward>)\ntensor(9.8029, grad_fn=<NllLossBackward>)\ntensor(5.2732, grad_fn=<NllLossBackward>)\n"
     ]
    },
    {
     "name": "stdout",
     "output_type": "stream",
     "text": [
      "tensor(1.6882, grad_fn=<NllLossBackward>)\ntensor(9.7136, grad_fn=<NllLossBackward>)\ntensor(0.0004, grad_fn=<NllLossBackward>)\ntensor(0., grad_fn=<NllLossBackward>)\ntensor(0., grad_fn=<NllLossBackward>)\ntensor(30.9763, grad_fn=<NllLossBackward>)\ntensor(23.9165, grad_fn=<NllLossBackward>)\ntensor(2.1981, grad_fn=<NllLossBackward>)\n"
     ]
    },
    {
     "name": "stdout",
     "output_type": "stream",
     "text": [
      "tensor(23.3613, grad_fn=<NllLossBackward>)\ntensor(3.6892, grad_fn=<NllLossBackward>)\ntensor(0.4491, grad_fn=<NllLossBackward>)\ntensor(0., grad_fn=<NllLossBackward>)\ntensor(18.0534, grad_fn=<NllLossBackward>)\ntensor(0.0595, grad_fn=<NllLossBackward>)\ntensor(1.6822, grad_fn=<NllLossBackward>)\ntensor(11.0575, grad_fn=<NllLossBackward>)\n"
     ]
    },
    {
     "name": "stdout",
     "output_type": "stream",
     "text": [
      "tensor(11.9947, grad_fn=<NllLossBackward>)\ntensor(13.4055, grad_fn=<NllLossBackward>)\ntensor(21.4363, grad_fn=<NllLossBackward>)\ntensor(5.6913, grad_fn=<NllLossBackward>)\ntensor(8.5944, grad_fn=<NllLossBackward>)\ntensor(0., grad_fn=<NllLossBackward>)\n"
     ]
    }
   ],
   "source": [
    "\n",
    "\n",
    "net = nn.Sequential(\n",
    "    nn.Linear(4,100),\n",
    "    nn.Linear(100,3)\n",
    ")\n",
    "criterion = nn.CrossEntropyLoss()\n",
    "optimizer = torch.optim.SGD(net.parameters(), lr=0.01)\n",
    "\n",
    "for epoch in range(100):\n",
    "    for idx, (x_train, y_train) in enumerate(train_loader):\n",
    "        out = net(x_train)\n",
    "        loss = criterion(out, y_train)\n",
    "        loss.backward()\n",
    "        optimizer.step()\n",
    "        print(loss)"
   ]
  },
  {
   "cell_type": "code",
   "execution_count": 66,
   "metadata": {},
   "outputs": [],
   "source": [
    "data_iter = iter(valid_loader)\n",
    "x, y = next(data_iter)\n",
    "\n"
   ]
  },
  {
   "cell_type": "code",
   "execution_count": 94,
   "metadata": {},
   "outputs": [
    {
     "data": {
      "text/plain": [
       "'Iris-setosa'"
      ]
     },
     "execution_count": 94,
     "metadata": {},
     "output_type": "execute_result"
    }
   ],
   "source": [
    "out = net(x)\n",
    "softmax = torch.nn.functional.softmax(out[1], dim=0)\n",
    "output = torch.argmax(softmax)\n",
    "label_network = iris_dataset.idx_to_class[output.item()]\n",
    "label_network\n"
   ]
  },
  {
   "cell_type": "code",
   "execution_count": 95,
   "metadata": {},
   "outputs": [
    {
     "data": {
      "text/plain": [
       "'Iris-setosa'"
      ]
     },
     "execution_count": 95,
     "metadata": {},
     "output_type": "execute_result"
    }
   ],
   "source": [
    "label_truth = iris_dataset.idx_to_class[y[1].item()]\n",
    "label_truth"
   ]
  },
  {
   "cell_type": "code",
   "execution_count": 92,
   "metadata": {},
   "outputs": [],
   "source": [
    ""
   ]
  },
  {
   "cell_type": "code",
   "execution_count": null,
   "metadata": {},
   "outputs": [],
   "source": []
  }
 ],
 "metadata": {
  "kernelspec": {
   "display_name": "Python 2",
   "language": "python",
   "name": "python2"
  },
  "language_info": {
   "codemirror_mode": {
    "name": "ipython",
    "version": 2
   },
   "file_extension": ".py",
   "mimetype": "text/x-python",
   "name": "python",
   "nbconvert_exporter": "python",
   "pygments_lexer": "ipython2",
   "version": "2.7.6"
  }
 },
 "nbformat": 4,
 "nbformat_minor": 0
}
